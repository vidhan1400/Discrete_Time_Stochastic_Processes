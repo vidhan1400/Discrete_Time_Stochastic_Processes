{
 "cells": [
  {
   "cell_type": "code",
   "execution_count": 1,
   "metadata": {},
   "outputs": [],
   "source": [
    "import pandas as pd\n",
    "from math import exp\n",
    "import numpy as np\n",
    "import math\n",
    "from itertools import permutations, combinations, product\n",
    "from functools import reduce\n"
   ]
  },
  {
   "cell_type": "markdown",
   "metadata": {},
   "source": [
    "Parameters for Group 29\n",
    "\n",
    "$u = 1.1 + \\frac{29}{100} = 1.39$\n",
    "\n",
    "$d = \\frac{1}{u} = 0.7194$\n",
    "\n",
    "$p^* = \\frac{1 - d}{u - d} = 0.4184$\n"
   ]
  },
  {
   "cell_type": "code",
   "execution_count": 3,
   "metadata": {},
   "outputs": [],
   "source": [
    "S = 95  # stock underlying value\n",
    "K = 105 # strike\n",
    "t = 1.0 # time\n",
    "r = 0.0 # risk-free interest rate\n",
    "n = 3 # number of steps\n",
    "v = 0.0 # volatility\n",
    "T = t * n\n",
    "u = 1.39\n",
    "d = 1 / u\n",
    "At = t / n \n",
    "p = (1 - d) / (u - d) "
   ]
  },
  {
   "cell_type": "markdown",
   "metadata": {},
   "source": [
    "# Part 1 and 2"
   ]
  },
  {
   "cell_type": "code",
   "execution_count": 4,
   "metadata": {},
   "outputs": [],
   "source": [
    "def buildtree_Call(u, d, T, S, K):\n",
    "    \n",
    "    # Generate the paths\n",
    "    a=product('ud', repeat=T) \n",
    "    paths = []\n",
    "    for i in a:\n",
    "        paths.append(''.join(i))\n",
    "    \n",
    "    # Calculate the paths\n",
    "    b=product([u,d], repeat=T) \n",
    "    vals= []\n",
    "    for i in b:\n",
    "        vals.append(list(i))\n",
    "    vals1 = np.matrix(vals)\n",
    "    \n",
    "    # Create table for the paths\n",
    "    # generate first column\n",
    "    startingvals = np.repeat(S, 2**T)\n",
    "    rv = startingvals.reshape(2**T,1)\n",
    "    # generate subsequent columns by multiplying the values of previous columns\n",
    "    stockvalues = []\n",
    "    stockvalues.append(rv.T.tolist()[0])\n",
    "    for i in range(T):\n",
    "        rv = np.multiply(rv, vals1[:,i])\n",
    "        stockvalues.append(rv.T.tolist()[0])   \n",
    "    \n",
    "    # Crate a dataframe from the matrix of path values\n",
    "    stockvalues = np.array(stockvalues)\n",
    "    dfstock = pd.DataFrame(stockvalues.T)\n",
    "    \n",
    "    # Calculate the last column which is the payoff\n",
    "    dfstock['H'] = dfstock[T].apply(lambda x: x-K if x-K > 0 else 0)\n",
    "    dfstock.index = paths\n",
    "    return dfstock\n"
   ]
  },
  {
   "cell_type": "code",
   "execution_count": 5,
   "metadata": {},
   "outputs": [],
   "source": [
    "def buildtree_Put(u, d, T, S, K):\n",
    "    \n",
    "    # Generate the paths\n",
    "    a=product('ud', repeat=T) \n",
    "    paths = []\n",
    "    for i in a:\n",
    "        paths.append(''.join(i))\n",
    "    \n",
    "    # Calculate the paths\n",
    "    b=product([u,d], repeat=T) \n",
    "    vals= []\n",
    "    for i in b:\n",
    "        vals.append(list(i))\n",
    "    vals1 = np.matrix(vals)\n",
    "    \n",
    "    # Create table for the paths\n",
    "    # generate first column\n",
    "    startingvals = np.repeat(S, 2**T)\n",
    "    rv = startingvals.reshape(2**T,1)\n",
    "    # generate subsequent columns by multiplying the values of previous columns\n",
    "    stockvalues = []\n",
    "    stockvalues.append(rv.T.tolist()[0])\n",
    "    for i in range(T):\n",
    "        rv = np.multiply(rv, vals1[:,i])\n",
    "        stockvalues.append(rv.T.tolist()[0])   \n",
    "    \n",
    "    # Crate a dataframe from the matrix of path values\n",
    "    stockvalues = np.array(stockvalues)\n",
    "    dfstock = pd.DataFrame(stockvalues.T)\n",
    "    \n",
    "    # Calculate the last column which is the payoff\n",
    "    dfstock['H'] = dfstock[T].apply(lambda x: x-K if x-K < 0 else 0)\n",
    "    dfstock.index = paths\n",
    "    return dfstock\n"
   ]
  },
  {
   "cell_type": "code",
   "execution_count": 6,
   "metadata": {},
   "outputs": [],
   "source": [
    "def pieh(u, d, df, col=None, K=None):\n",
    "\n",
    "    if col is None or col == 'H':\n",
    "        hvals = df['H'].to_list()\n",
    "    else:\n",
    "        if col not in df.columns:\n",
    "            return np.nan\n",
    "        else:\n",
    "            hvals = df[col].apply(lambda x: x-K if x-K < 0 else 0).to_list() \n",
    "                \n",
    "    # Calculate the p*\n",
    "    p = (1 - d) / (u - d) \n",
    "    q = 1 - p\n",
    "    pieH = 0\n",
    "    T = int(np.log2(len(df)))\n",
    "    \n",
    "    # get the product structure p^m q^n\n",
    "    t1 = perm(p, q, T)\n",
    "    # reshape the H values to perform matrix multiplication\n",
    "    h = np.round(hvals, 2)\n",
    "    h2 = h.reshape(len(h), 1)\n",
    "    prod1 = np.multiply(t1, h2)\n",
    "    # unique no-arbitrage price of H is\n",
    "    pieH = np.sum(prod1)\n",
    "    return pieH\n",
    "\n",
    "def perm(p, q, T):\n",
    "    b=product((p,q), repeat=T) \n",
    "    vals= []\n",
    "    for i in b:\n",
    "        vals.append(list(i))\n",
    "    vals1 = np.matrix(vals)\n",
    "    t1 = reduce(lambda a,b: np.multiply(a,b), [m for m in vals1.T])\n",
    "    return t1.T\n",
    "    "
   ]
  },
  {
   "cell_type": "markdown",
   "metadata": {},
   "source": [
    "#### Call option S = 95, K = 105, T = 3"
   ]
  },
  {
   "cell_type": "code",
   "execution_count": 7,
   "metadata": {},
   "outputs": [
    {
     "data": {
      "text/html": [
       "<div>\n",
       "<style scoped>\n",
       "    .dataframe tbody tr th:only-of-type {\n",
       "        vertical-align: middle;\n",
       "    }\n",
       "\n",
       "    .dataframe tbody tr th {\n",
       "        vertical-align: top;\n",
       "    }\n",
       "\n",
       "    .dataframe thead th {\n",
       "        text-align: right;\n",
       "    }\n",
       "</style>\n",
       "<table border=\"1\" class=\"dataframe\">\n",
       "  <thead>\n",
       "    <tr style=\"text-align: right;\">\n",
       "      <th></th>\n",
       "      <th>0</th>\n",
       "      <th>1</th>\n",
       "      <th>2</th>\n",
       "      <th>3</th>\n",
       "      <th>H</th>\n",
       "    </tr>\n",
       "  </thead>\n",
       "  <tbody>\n",
       "    <tr>\n",
       "      <th>uuu</th>\n",
       "      <td>95.0</td>\n",
       "      <td>132.050000</td>\n",
       "      <td>183.549500</td>\n",
       "      <td>255.133805</td>\n",
       "      <td>150.133805</td>\n",
       "    </tr>\n",
       "    <tr>\n",
       "      <th>uud</th>\n",
       "      <td>95.0</td>\n",
       "      <td>132.050000</td>\n",
       "      <td>183.549500</td>\n",
       "      <td>132.050000</td>\n",
       "      <td>27.050000</td>\n",
       "    </tr>\n",
       "    <tr>\n",
       "      <th>udu</th>\n",
       "      <td>95.0</td>\n",
       "      <td>132.050000</td>\n",
       "      <td>95.000000</td>\n",
       "      <td>132.050000</td>\n",
       "      <td>27.050000</td>\n",
       "    </tr>\n",
       "    <tr>\n",
       "      <th>udd</th>\n",
       "      <td>95.0</td>\n",
       "      <td>132.050000</td>\n",
       "      <td>95.000000</td>\n",
       "      <td>68.345324</td>\n",
       "      <td>0.000000</td>\n",
       "    </tr>\n",
       "    <tr>\n",
       "      <th>duu</th>\n",
       "      <td>95.0</td>\n",
       "      <td>68.345324</td>\n",
       "      <td>95.000000</td>\n",
       "      <td>132.050000</td>\n",
       "      <td>27.050000</td>\n",
       "    </tr>\n",
       "    <tr>\n",
       "      <th>dud</th>\n",
       "      <td>95.0</td>\n",
       "      <td>68.345324</td>\n",
       "      <td>95.000000</td>\n",
       "      <td>68.345324</td>\n",
       "      <td>0.000000</td>\n",
       "    </tr>\n",
       "    <tr>\n",
       "      <th>ddu</th>\n",
       "      <td>95.0</td>\n",
       "      <td>68.345324</td>\n",
       "      <td>49.169298</td>\n",
       "      <td>68.345324</td>\n",
       "      <td>0.000000</td>\n",
       "    </tr>\n",
       "    <tr>\n",
       "      <th>ddd</th>\n",
       "      <td>95.0</td>\n",
       "      <td>68.345324</td>\n",
       "      <td>49.169298</td>\n",
       "      <td>35.373595</td>\n",
       "      <td>0.000000</td>\n",
       "    </tr>\n",
       "  </tbody>\n",
       "</table>\n",
       "</div>"
      ],
      "text/plain": [
       "        0           1           2           3           H\n",
       "uuu  95.0  132.050000  183.549500  255.133805  150.133805\n",
       "uud  95.0  132.050000  183.549500  132.050000   27.050000\n",
       "udu  95.0  132.050000   95.000000  132.050000   27.050000\n",
       "udd  95.0  132.050000   95.000000   68.345324    0.000000\n",
       "duu  95.0   68.345324   95.000000  132.050000   27.050000\n",
       "dud  95.0   68.345324   95.000000   68.345324    0.000000\n",
       "ddu  95.0   68.345324   49.169298   68.345324    0.000000\n",
       "ddd  95.0   68.345324   49.169298   35.373595    0.000000"
      ]
     },
     "execution_count": 7,
     "metadata": {},
     "output_type": "execute_result"
    }
   ],
   "source": [
    "df3 = buildtree_Call(u=1.39, d=1/1.39, T=3, S=95, K=105)\n",
    "df3"
   ]
  },
  {
   "cell_type": "markdown",
   "metadata": {},
   "source": [
    "#### Put option S = 95, K = 105, T = 2"
   ]
  },
  {
   "cell_type": "code",
   "execution_count": 8,
   "metadata": {},
   "outputs": [],
   "source": [
    "u=1.39\n",
    "d=1/u\n",
    "T=2\n",
    "S=95\n",
    "K=105\n",
    "p = (1 - d) / (u - d) \n",
    "q = 1 - p"
   ]
  },
  {
   "cell_type": "code",
   "execution_count": 9,
   "metadata": {},
   "outputs": [
    {
     "data": {
      "text/html": [
       "<div>\n",
       "<style scoped>\n",
       "    .dataframe tbody tr th:only-of-type {\n",
       "        vertical-align: middle;\n",
       "    }\n",
       "\n",
       "    .dataframe tbody tr th {\n",
       "        vertical-align: top;\n",
       "    }\n",
       "\n",
       "    .dataframe thead th {\n",
       "        text-align: right;\n",
       "    }\n",
       "</style>\n",
       "<table border=\"1\" class=\"dataframe\">\n",
       "  <thead>\n",
       "    <tr style=\"text-align: right;\">\n",
       "      <th></th>\n",
       "      <th>0</th>\n",
       "      <th>1</th>\n",
       "      <th>2</th>\n",
       "      <th>H</th>\n",
       "    </tr>\n",
       "  </thead>\n",
       "  <tbody>\n",
       "    <tr>\n",
       "      <th>uu</th>\n",
       "      <td>95.0</td>\n",
       "      <td>855.000000</td>\n",
       "      <td>7695.000000</td>\n",
       "      <td>0.000000</td>\n",
       "    </tr>\n",
       "    <tr>\n",
       "      <th>ud</th>\n",
       "      <td>95.0</td>\n",
       "      <td>855.000000</td>\n",
       "      <td>615.107914</td>\n",
       "      <td>0.000000</td>\n",
       "    </tr>\n",
       "    <tr>\n",
       "      <th>du</th>\n",
       "      <td>95.0</td>\n",
       "      <td>68.345324</td>\n",
       "      <td>615.107914</td>\n",
       "      <td>0.000000</td>\n",
       "    </tr>\n",
       "    <tr>\n",
       "      <th>dd</th>\n",
       "      <td>95.0</td>\n",
       "      <td>68.345324</td>\n",
       "      <td>49.169298</td>\n",
       "      <td>-55.830702</td>\n",
       "    </tr>\n",
       "  </tbody>\n",
       "</table>\n",
       "</div>"
      ],
      "text/plain": [
       "       0           1            2          H\n",
       "uu  95.0  855.000000  7695.000000   0.000000\n",
       "ud  95.0  855.000000   615.107914   0.000000\n",
       "du  95.0   68.345324   615.107914   0.000000\n",
       "dd  95.0   68.345324    49.169298 -55.830702"
      ]
     },
     "execution_count": 9,
     "metadata": {},
     "output_type": "execute_result"
    }
   ],
   "source": [
    "df_put = buildtree_Put(u=9, d=1/1.39, T=2, S=95, K=105)\n",
    "df_put"
   ]
  },
  {
   "cell_type": "markdown",
   "metadata": {},
   "source": [
    "The price of the option - unique no-arbitrage price of H"
   ]
  },
  {
   "cell_type": "code",
   "execution_count": 10,
   "metadata": {},
   "outputs": [
    {
     "data": {
      "text/plain": [
       "-18.884323278654087"
      ]
     },
     "execution_count": 10,
     "metadata": {},
     "output_type": "execute_result"
    }
   ],
   "source": [
    "pieh(u=1.39, d=1/1.39, df=df_put, col='H', K=105)"
   ]
  },
  {
   "cell_type": "markdown",
   "metadata": {},
   "source": [
    "##### Check put-call parity"
   ]
  },
  {
   "cell_type": "code",
   "execution_count": 12,
   "metadata": {},
   "outputs": [
    {
     "data": {
      "text/html": [
       "<div>\n",
       "<style scoped>\n",
       "    .dataframe tbody tr th:only-of-type {\n",
       "        vertical-align: middle;\n",
       "    }\n",
       "\n",
       "    .dataframe tbody tr th {\n",
       "        vertical-align: top;\n",
       "    }\n",
       "\n",
       "    .dataframe thead th {\n",
       "        text-align: right;\n",
       "    }\n",
       "</style>\n",
       "<table border=\"1\" class=\"dataframe\">\n",
       "  <thead>\n",
       "    <tr style=\"text-align: right;\">\n",
       "      <th></th>\n",
       "      <th>0</th>\n",
       "      <th>1</th>\n",
       "      <th>2</th>\n",
       "      <th>H</th>\n",
       "    </tr>\n",
       "  </thead>\n",
       "  <tbody>\n",
       "    <tr>\n",
       "      <th>uu</th>\n",
       "      <td>95.0</td>\n",
       "      <td>132.050000</td>\n",
       "      <td>183.549500</td>\n",
       "      <td>78.5495</td>\n",
       "    </tr>\n",
       "    <tr>\n",
       "      <th>ud</th>\n",
       "      <td>95.0</td>\n",
       "      <td>132.050000</td>\n",
       "      <td>95.000000</td>\n",
       "      <td>0.0000</td>\n",
       "    </tr>\n",
       "    <tr>\n",
       "      <th>du</th>\n",
       "      <td>95.0</td>\n",
       "      <td>68.345324</td>\n",
       "      <td>95.000000</td>\n",
       "      <td>0.0000</td>\n",
       "    </tr>\n",
       "    <tr>\n",
       "      <th>dd</th>\n",
       "      <td>95.0</td>\n",
       "      <td>68.345324</td>\n",
       "      <td>49.169298</td>\n",
       "      <td>0.0000</td>\n",
       "    </tr>\n",
       "  </tbody>\n",
       "</table>\n",
       "</div>"
      ],
      "text/plain": [
       "       0           1           2        H\n",
       "uu  95.0  132.050000  183.549500  78.5495\n",
       "ud  95.0  132.050000   95.000000   0.0000\n",
       "du  95.0   68.345324   95.000000   0.0000\n",
       "dd  95.0   68.345324   49.169298   0.0000"
      ]
     },
     "execution_count": 12,
     "metadata": {},
     "output_type": "execute_result"
    }
   ],
   "source": [
    "df_call = buildtree_Call(u=1.39, d=1/1.39, T=2, S=95, K=105)\n",
    "df_call"
   ]
  },
  {
   "cell_type": "code",
   "execution_count": 13,
   "metadata": {},
   "outputs": [
    {
     "data": {
      "text/plain": [
       "-5.13"
      ]
     },
     "execution_count": 13,
     "metadata": {},
     "output_type": "execute_result"
    }
   ],
   "source": [
    "np.round(pieh(u=1.39, d=1/1.39, df=df_call, col='H', K=105)+pieh(u=1.39, d=1/1.39, df=df_put, col=2, K=105), 2)"
   ]
  },
  {
   "cell_type": "markdown",
   "metadata": {},
   "source": [
    "This is equal to the difference S - K = 95 - 105 = -10 "
   ]
  },
  {
   "cell_type": "markdown",
   "metadata": {},
   "source": [
    "## Value of the replicating strategy"
   ]
  },
  {
   "cell_type": "code",
   "execution_count": 14,
   "metadata": {},
   "outputs": [],
   "source": [
    "def repli_val(p, q, df, n):\n",
    "    T = int(np.log2(len(df)))\n",
    "    if n >= T:\n",
    "        return -1\n",
    "    \n",
    "    p1 = perm(p, q, T-n)\n",
    "    \n",
    "    l = len(p1)\n",
    "    j = 0\n",
    "    sum = 0 \n",
    "    v = []\n",
    "    for i, val in enumerate(df['H']):\n",
    "        sum += p1[j]*val\n",
    "        j += 1\n",
    "        if j >= l:\n",
    "            j = 0\n",
    "            v.append([sum]*l)\n",
    "            sum = 0\n",
    "    return np.array(v ).reshape(2**T,1)\n",
    "\n",
    "def replicating_strategy(p, q, df_option):\n",
    "    df = pd.DataFrame()\n",
    "\n",
    "    for i in range(T):\n",
    "        v = repli_val(p, q, df_option, i)\n",
    "        df[i] = v.T.tolist()[0]\n",
    "    df[i+1] = df_option.reset_index()['H']\n",
    "    df.index = df_option.index\n",
    "    return df\n",
    "        "
   ]
  },
  {
   "cell_type": "code",
   "execution_count": 15,
   "metadata": {},
   "outputs": [
    {
     "data": {
      "text/html": [
       "<div>\n",
       "<style scoped>\n",
       "    .dataframe tbody tr th:only-of-type {\n",
       "        vertical-align: middle;\n",
       "    }\n",
       "\n",
       "    .dataframe tbody tr th {\n",
       "        vertical-align: top;\n",
       "    }\n",
       "\n",
       "    .dataframe thead th {\n",
       "        text-align: right;\n",
       "    }\n",
       "</style>\n",
       "<table border=\"1\" class=\"dataframe\">\n",
       "  <thead>\n",
       "    <tr style=\"text-align: right;\">\n",
       "      <th></th>\n",
       "      <th>0</th>\n",
       "      <th>1</th>\n",
       "      <th>2</th>\n",
       "    </tr>\n",
       "  </thead>\n",
       "  <tbody>\n",
       "    <tr>\n",
       "      <th>uu</th>\n",
       "      <td>-18.884561</td>\n",
       "      <td>0.000000</td>\n",
       "      <td>0.000000</td>\n",
       "    </tr>\n",
       "    <tr>\n",
       "      <th>ud</th>\n",
       "      <td>-18.884561</td>\n",
       "      <td>0.000000</td>\n",
       "      <td>0.000000</td>\n",
       "    </tr>\n",
       "    <tr>\n",
       "      <th>du</th>\n",
       "      <td>-18.884561</td>\n",
       "      <td>-32.470576</td>\n",
       "      <td>0.000000</td>\n",
       "    </tr>\n",
       "    <tr>\n",
       "      <th>dd</th>\n",
       "      <td>-18.884561</td>\n",
       "      <td>-32.470576</td>\n",
       "      <td>-55.830702</td>\n",
       "    </tr>\n",
       "  </tbody>\n",
       "</table>\n",
       "</div>"
      ],
      "text/plain": [
       "            0          1          2\n",
       "uu -18.884561   0.000000   0.000000\n",
       "ud -18.884561   0.000000   0.000000\n",
       "du -18.884561 -32.470576   0.000000\n",
       "dd -18.884561 -32.470576 -55.830702"
      ]
     },
     "execution_count": 15,
     "metadata": {},
     "output_type": "execute_result"
    }
   ],
   "source": [
    "u=1.39\n",
    "d=1/u\n",
    "T=2\n",
    "S=95\n",
    "K=105\n",
    "\n",
    "df_v = replicating_strategy(p, q, df_put)\n",
    "df_v"
   ]
  },
  {
   "cell_type": "code",
   "execution_count": 16,
   "metadata": {},
   "outputs": [
    {
     "data": {
      "text/html": [
       "<div>\n",
       "<style scoped>\n",
       "    .dataframe tbody tr th:only-of-type {\n",
       "        vertical-align: middle;\n",
       "    }\n",
       "\n",
       "    .dataframe tbody tr th {\n",
       "        vertical-align: top;\n",
       "    }\n",
       "\n",
       "    .dataframe thead th {\n",
       "        text-align: right;\n",
       "    }\n",
       "</style>\n",
       "<table border=\"1\" class=\"dataframe\">\n",
       "  <thead>\n",
       "    <tr style=\"text-align: right;\">\n",
       "      <th></th>\n",
       "      <th>0</th>\n",
       "      <th>1</th>\n",
       "      <th>2</th>\n",
       "      <th>H</th>\n",
       "    </tr>\n",
       "  </thead>\n",
       "  <tbody>\n",
       "    <tr>\n",
       "      <th>uu</th>\n",
       "      <td>95.0</td>\n",
       "      <td>855.000000</td>\n",
       "      <td>7695.000000</td>\n",
       "      <td>0.000000</td>\n",
       "    </tr>\n",
       "    <tr>\n",
       "      <th>ud</th>\n",
       "      <td>95.0</td>\n",
       "      <td>855.000000</td>\n",
       "      <td>615.107914</td>\n",
       "      <td>0.000000</td>\n",
       "    </tr>\n",
       "    <tr>\n",
       "      <th>du</th>\n",
       "      <td>95.0</td>\n",
       "      <td>68.345324</td>\n",
       "      <td>615.107914</td>\n",
       "      <td>0.000000</td>\n",
       "    </tr>\n",
       "    <tr>\n",
       "      <th>dd</th>\n",
       "      <td>95.0</td>\n",
       "      <td>68.345324</td>\n",
       "      <td>49.169298</td>\n",
       "      <td>-55.830702</td>\n",
       "    </tr>\n",
       "  </tbody>\n",
       "</table>\n",
       "</div>"
      ],
      "text/plain": [
       "       0           1            2          H\n",
       "uu  95.0  855.000000  7695.000000   0.000000\n",
       "ud  95.0  855.000000   615.107914   0.000000\n",
       "du  95.0   68.345324   615.107914   0.000000\n",
       "dd  95.0   68.345324    49.169298 -55.830702"
      ]
     },
     "execution_count": 16,
     "metadata": {},
     "output_type": "execute_result"
    }
   ],
   "source": [
    "df_put"
   ]
  },
  {
   "cell_type": "markdown",
   "metadata": {},
   "source": [
    "### Hedging strategy"
   ]
  },
  {
   "cell_type": "code",
   "execution_count": 17,
   "metadata": {},
   "outputs": [],
   "source": [
    "def hedging_strategy(df_v, df_x):\n",
    "    if len(df_v.columns) != len(df_x.columns):\n",
    "        return -1\n",
    "    phi = []\n",
    "    for i in range(1, len(df_v.columns)):\n",
    "        ph1 = np.round(((df_v[i] - df_v[i-1])/(df_x[i] - df_x[i-1])).iloc[0], 2)\n",
    "        phi.append(ph1)\n",
    "    return phi\n",
    "\n",
    "def xvalues(df):\n",
    "    return df.drop(columns='H')"
   ]
  },
  {
   "cell_type": "code",
   "execution_count": 18,
   "metadata": {},
   "outputs": [],
   "source": [
    "df_x = xvalues(df_put)"
   ]
  },
  {
   "cell_type": "code",
   "execution_count": 19,
   "metadata": {},
   "outputs": [
    {
     "data": {
      "text/plain": [
       "[0.02, 0.0]"
      ]
     },
     "execution_count": 19,
     "metadata": {},
     "output_type": "execute_result"
    }
   ],
   "source": [
    "hedging_strategy(df_v, df_x)"
   ]
  },
  {
   "cell_type": "markdown",
   "metadata": {},
   "source": [
    "# Part 3"
   ]
  },
  {
   "cell_type": "markdown",
   "metadata": {},
   "source": [
    "The no-arbitrage condition requires  \n",
    "$$V \\cdot \\phi \\geq 0 $$ isa null set, where V is the value of he portfolio and $\\phi$ is the trading strategy (portfolio allocation).  \n",
    "Let's set $V \\cdot \\phi = H$ where $H$ is the value of the option with acts a replicating strategy and is a constant. \n",
    "If there is a solution to this equation then there is no arbitrage opportuniies. We can rewite this equation as Ax = b and try to solve for x."
   ]
  },
  {
   "cell_type": "code",
   "execution_count": 25,
   "metadata": {},
   "outputs": [
    {
     "data": {
      "text/plain": [
       "array([[ 1, 15],\n",
       "       [ 1,  5]])"
      ]
     },
     "execution_count": 25,
     "metadata": {},
     "output_type": "execute_result"
    }
   ],
   "source": [
    "A = np.array([[1,15], [1,5]])\n",
    "A"
   ]
  },
  {
   "cell_type": "code",
   "execution_count": 21,
   "metadata": {},
   "outputs": [
    {
     "data": {
      "text/plain": [
       "array([[3],\n",
       "       [1]])"
      ]
     },
     "execution_count": 21,
     "metadata": {},
     "output_type": "execute_result"
    }
   ],
   "source": [
    "b = np.array([[3,1]]).T\n",
    "b"
   ]
  },
  {
   "cell_type": "code",
   "execution_count": 22,
   "metadata": {},
   "outputs": [
    {
     "data": {
      "text/plain": [
       "array([[-0.5,  1.5],\n",
       "       [ 0.1, -0.1]])"
      ]
     },
     "execution_count": 22,
     "metadata": {},
     "output_type": "execute_result"
    }
   ],
   "source": [
    "np.linalg.inv(A)"
   ]
  },
  {
   "cell_type": "markdown",
   "metadata": {},
   "source": [
    "The solution for x"
   ]
  },
  {
   "cell_type": "code",
   "execution_count": 29,
   "metadata": {},
   "outputs": [
    {
     "data": {
      "text/plain": [
       "array([[0. ],\n",
       "       [0.2]])"
      ]
     },
     "execution_count": 29,
     "metadata": {},
     "output_type": "execute_result"
    }
   ],
   "source": [
    "np.dot(np.linalg.inv(A), b)"
   ]
  },
  {
   "cell_type": "code",
   "execution_count": null,
   "metadata": {},
   "outputs": [],
   "source": []
  }
 ],
 "metadata": {
  "kernelspec": {
   "display_name": "Python 3",
   "language": "python",
   "name": "python3"
  },
  "language_info": {
   "codemirror_mode": {
    "name": "ipython",
    "version": 3
   },
   "file_extension": ".py",
   "mimetype": "text/x-python",
   "name": "python",
   "nbconvert_exporter": "python",
   "pygments_lexer": "ipython3",
   "version": "3.8.10"
  }
 },
 "nbformat": 4,
 "nbformat_minor": 4
}
